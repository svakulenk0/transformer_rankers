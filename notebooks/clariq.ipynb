{
 "cells": [
  {
   "cell_type": "code",
   "execution_count": 2,
   "metadata": {},
   "outputs": [],
   "source": [
    "# # !mkdir data\n",
    "# # !mkdir data/clariq\n",
    "# !cd data/clariq; wget https://github.com/aliannejadi/ClariQ/raw/master/data/dev.tsv\n",
    "# !cd data/clariq; wget https://github.com/aliannejadi/ClariQ/raw/master/data/train.tsv\n",
    "# !cd data/clariq; wget https://github.com/aliannejadi/ClariQ/raw/master/data/question_bank.tsv\n",
    "# !mv data/clariq/train.tsv data/clariq/train_original.tsv"
   ]
  },
  {
   "cell_type": "code",
   "execution_count": 3,
   "metadata": {},
   "outputs": [],
   "source": [
    "import pandas as pd\n",
    "data_path = \"./data/\"\n",
    "\n",
    "train = pd.read_csv(data_path+\"clariq/train_original.tsv\", sep=\"\\t\")\n",
    "valid = pd.read_csv(data_path+\"clariq/dev.tsv\", sep=\"\\t\")\n",
    "\n",
    "train = train[[\"initial_request\", \"question\"]]\n",
    "train.columns = [\"query\", \"clarifying_question\"]\n",
    "train = train[~train[\"clarifying_question\"].isnull()]\n",
    "\n",
    "valid = valid[[\"initial_request\", \"question\"]]\n",
    "valid.columns = [\"query\", \"clarifying_question\"]\n",
    "valid = valid[~valid[\"clarifying_question\"].isnull()]\n",
    "\n",
    "train.to_csv(data_path+\"clariq/train.tsv\", sep=\"\\t\", index=False)\n",
    "valid.to_csv(data_path+\"clariq/valid.tsv\", sep=\"\\t\", index=False)"
   ]
  },
  {
   "cell_type": "code",
   "execution_count": 4,
   "metadata": {},
   "outputs": [
    {
     "data": {
      "text/html": [
       "<div>\n",
       "<style scoped>\n",
       "    .dataframe tbody tr th:only-of-type {\n",
       "        vertical-align: middle;\n",
       "    }\n",
       "\n",
       "    .dataframe tbody tr th {\n",
       "        vertical-align: top;\n",
       "    }\n",
       "\n",
       "    .dataframe thead th {\n",
       "        text-align: right;\n",
       "    }\n",
       "</style>\n",
       "<table border=\"1\" class=\"dataframe\">\n",
       "  <thead>\n",
       "    <tr style=\"text-align: right;\">\n",
       "      <th></th>\n",
       "      <th>query</th>\n",
       "      <th>clarifying_question</th>\n",
       "    </tr>\n",
       "  </thead>\n",
       "  <tbody>\n",
       "    <tr>\n",
       "      <th>0</th>\n",
       "      <td>Tell me about Obama family tree.</td>\n",
       "      <td>are you interested in seeing barack obamas family</td>\n",
       "    </tr>\n",
       "    <tr>\n",
       "      <th>1</th>\n",
       "      <td>Tell me about Obama family tree.</td>\n",
       "      <td>would you like to know barack obamas geneology</td>\n",
       "    </tr>\n",
       "    <tr>\n",
       "      <th>2</th>\n",
       "      <td>Tell me about Obama family tree.</td>\n",
       "      <td>would you like to know about obamas ancestors</td>\n",
       "    </tr>\n",
       "    <tr>\n",
       "      <th>3</th>\n",
       "      <td>Tell me about Obama family tree.</td>\n",
       "      <td>would you like to know who is currently alive ...</td>\n",
       "    </tr>\n",
       "    <tr>\n",
       "      <th>4</th>\n",
       "      <td>Tell me about Obama family tree.</td>\n",
       "      <td>are you looking for biological information on ...</td>\n",
       "    </tr>\n",
       "  </tbody>\n",
       "</table>\n",
       "</div>"
      ],
      "text/plain": [
       "                              query  \\\n",
       "0  Tell me about Obama family tree.   \n",
       "1  Tell me about Obama family tree.   \n",
       "2  Tell me about Obama family tree.   \n",
       "3  Tell me about Obama family tree.   \n",
       "4  Tell me about Obama family tree.   \n",
       "\n",
       "                                 clarifying_question  \n",
       "0  are you interested in seeing barack obamas family  \n",
       "1     would you like to know barack obamas geneology  \n",
       "2      would you like to know about obamas ancestors  \n",
       "3  would you like to know who is currently alive ...  \n",
       "4  are you looking for biological information on ...  "
      ]
     },
     "execution_count": 4,
     "metadata": {},
     "output_type": "execute_result"
    }
   ],
   "source": [
    "# For transformer-rankers we only need a pandas DF with query (here the initial request) \n",
    "# and relevant documents (here the clarifying questions).\n",
    "train.head()"
   ]
  },
  {
   "cell_type": "code",
   "execution_count": 5,
   "metadata": {},
   "outputs": [
    {
     "data": {
      "text/html": [
       "<div>\n",
       "<style scoped>\n",
       "    .dataframe tbody tr th:only-of-type {\n",
       "        vertical-align: middle;\n",
       "    }\n",
       "\n",
       "    .dataframe tbody tr th {\n",
       "        vertical-align: top;\n",
       "    }\n",
       "\n",
       "    .dataframe thead th {\n",
       "        text-align: right;\n",
       "    }\n",
       "</style>\n",
       "<table border=\"1\" class=\"dataframe\">\n",
       "  <thead>\n",
       "    <tr style=\"text-align: right;\">\n",
       "      <th></th>\n",
       "      <th>question_id</th>\n",
       "      <th>question</th>\n",
       "    </tr>\n",
       "  </thead>\n",
       "  <tbody>\n",
       "    <tr>\n",
       "      <th>0</th>\n",
       "      <td>Q00001</td>\n",
       "      <td>NaN</td>\n",
       "    </tr>\n",
       "    <tr>\n",
       "      <th>1</th>\n",
       "      <td>Q00002</td>\n",
       "      <td>a total cholesterol of 180 to 200 mgdl 10 to 1...</td>\n",
       "    </tr>\n",
       "    <tr>\n",
       "      <th>2</th>\n",
       "      <td>Q00003</td>\n",
       "      <td>about how many years experience do you want th...</td>\n",
       "    </tr>\n",
       "    <tr>\n",
       "      <th>3</th>\n",
       "      <td>Q00004</td>\n",
       "      <td>according to anima the bible or what other source</td>\n",
       "    </tr>\n",
       "    <tr>\n",
       "      <th>4</th>\n",
       "      <td>Q00005</td>\n",
       "      <td>ae you looking for examples of septic system d...</td>\n",
       "    </tr>\n",
       "  </tbody>\n",
       "</table>\n",
       "</div>"
      ],
      "text/plain": [
       "  question_id                                           question\n",
       "0      Q00001                                                NaN\n",
       "1      Q00002  a total cholesterol of 180 to 200 mgdl 10 to 1...\n",
       "2      Q00003  about how many years experience do you want th...\n",
       "3      Q00004  according to anima the bible or what other source\n",
       "4      Q00005  ae you looking for examples of septic system d..."
      ]
     },
     "execution_count": 5,
     "metadata": {},
     "output_type": "execute_result"
    }
   ],
   "source": [
    "# We will sample negative samples for training using the question bank\n",
    "question_bank = pd.read_csv(data_path+\"clariq/question_bank.tsv\", sep=\"\\t\")\n",
    "question_bank.head()"
   ]
  },
  {
   "cell_type": "code",
   "execution_count": 9,
   "metadata": {},
   "outputs": [
    {
     "data": {
      "text/html": [
       "\n",
       "                Logging results to <a href=\"https://wandb.com\" target=\"_blank\">Weights & Biases</a> <a href=\"https://docs.wandb.com/integrations/jupyter.html\" target=\"_blank\">(Documentation)</a>.<br/>\n",
       "                Project page: <a href=\"https://app.wandb.ai/vendi/transformer_rankers-notebooks\" target=\"_blank\">https://app.wandb.ai/vendi/transformer_rankers-notebooks</a><br/>\n",
       "                Run page: <a href=\"https://app.wandb.ai/vendi/transformer_rankers-notebooks/runs/10yob1su\" target=\"_blank\">https://app.wandb.ai/vendi/transformer_rankers-notebooks/runs/10yob1su</a><br/>\n",
       "            "
      ],
      "text/plain": [
       "<IPython.core.display.HTML object>"
      ]
     },
     "metadata": {},
     "output_type": "display_data"
    },
    {
     "name": "stdout",
     "output_type": "stream",
     "text": [
      "2020-12-15 12:13:59,616 [ERROR] Failed to query for notebook name, you can set it manually with the WANDB_NOTEBOOK_NAME environment variable\n"
     ]
    },
    {
     "name": "stderr",
     "output_type": "stream",
     "text": [
      "\u001b[34m\u001b[1mwandb\u001b[0m: Wandb version 0.10.12 is available!  To upgrade, please run:\n",
      "\u001b[34m\u001b[1mwandb\u001b[0m:  $ pip install wandb --upgrade\n"
     ]
    },
    {
     "name": "stdout",
     "output_type": "stream",
     "text": [
      "2020-12-15 12:13:59,738 [INFO] system metrics and metadata threads started\n",
      "2020-12-15 12:13:59,741 [INFO] checking resume status, waiting at most 10 seconds\n",
      "2020-12-15 12:13:59,903 [INFO] resuming run from id: UnVuOnYxOjEweW9iMXN1OnRyYW5zZm9ybWVyX3JhbmtlcnMtbm90ZWJvb2tzOnZlbmRp\n",
      "2020-12-15 12:13:59,916 [INFO] upserting run before process can begin, waiting at most 10 seconds\n",
      "2020-12-15 12:14:00,103 [INFO] saving pip packages\n",
      "2020-12-15 12:14:00,110 [INFO] initializing streaming files api\n",
      "2020-12-15 12:14:00,111 [INFO] unblocking file change observer, beginning sync with W&B servers\n"
     ]
    },
    {
     "data": {
      "text/plain": [
       "W&B Run: https://app.wandb.ai/vendi/transformer_rankers-notebooks/runs/10yob1su"
      ]
     },
     "execution_count": 9,
     "metadata": {},
     "output_type": "execute_result"
    },
    {
     "name": "stdout",
     "output_type": "stream",
     "text": [
      "2020-12-15 12:14:00,120 [INFO] shutting down system stats and metadata service\n",
      "2020-12-15 12:14:00,250 [INFO] file/dir modified: /home/svakule/transformer_rankers/notebooks/wandb/run-20201215_121358-10yob1su/config.yaml\n",
      "2020-12-15 12:14:00,427 [INFO] file/dir created: /home/svakule/transformer_rankers/notebooks/wandb/run-20201215_121358-10yob1su/wandb-events.jsonl\n",
      "2020-12-15 12:14:00,437 [INFO] file/dir created: /home/svakule/transformer_rankers/notebooks/wandb/run-20201215_121358-10yob1su/wandb-metadata.json\n",
      "2020-12-15 12:14:00,439 [INFO] file/dir created: /home/svakule/transformer_rankers/notebooks/wandb/run-20201215_121358-10yob1su/wandb-summary.json\n",
      "2020-12-15 12:14:00,443 [INFO] file/dir created: /home/svakule/transformer_rankers/notebooks/wandb/run-20201215_121358-10yob1su/wandb-history.jsonl\n",
      "2020-12-15 12:14:00,450 [INFO] file/dir created: /home/svakule/transformer_rankers/notebooks/wandb/run-20201215_121358-10yob1su/requirements.txt\n",
      "2020-12-15 12:14:00,743 [INFO] stopping streaming files and file change observer\n",
      "2020-12-15 12:14:01,250 [INFO] file/dir modified: /home/svakule/transformer_rankers/notebooks/wandb/run-20201215_121358-10yob1su/wandb-events.jsonl\n",
      "2020-12-15 12:14:01,255 [INFO] file/dir modified: /home/svakule/transformer_rankers/notebooks/wandb/run-20201215_121358-10yob1su/wandb-metadata.json\n"
     ]
    }
   ],
   "source": [
    "import wandb\n",
    "wandb.init()"
   ]
  },
  {
   "cell_type": "code",
   "execution_count": null,
   "metadata": {},
   "outputs": [
    {
     "name": "stdout",
     "output_type": "stream",
     "text": [
      "2020-12-15 12:14:03,527 [INFO] Train instances per batch 48\n",
      "2020-12-15 12:14:03,562 [INFO] Loading instances from ./data/clariq//pointwise_set_train_n_cand_docs_45_ns_sampler_BM25NS_seq_max_l_50_sample_-1_for_classification_using_BertTokenizer\n",
      "2020-12-15 12:14:03,894 [INFO] Total of 16981 instances were cached.\n",
      "2020-12-15 12:14:03,906 [INFO] Loading instances from ./data/clariq//pointwise_set_val_n_cand_docs_45_ns_sampler_BM25NS_seq_max_l_50_sample_-1_for_classification_using_BertTokenizer\n",
      "2020-12-15 12:14:04,060 [INFO] Total of 2025 instances were cached.\n",
      "2020-12-15 12:14:04,072 [INFO] Loading instances from ./data/clariq//pointwise_set_test_n_cand_docs_45_ns_sampler_BM25NS_seq_max_l_50_sample_-1_for_classification_using_BertTokenizer\n",
      "2020-12-15 12:14:04,086 [INFO] Total of 2025 instances were cached.\n"
     ]
    },
    {
     "name": "stderr",
     "output_type": "stream",
     "text": [
      "Some weights of the model checkpoint at bert-base-uncased were not used when initializing BertForSequenceClassification: ['cls.predictions.bias', 'cls.predictions.transform.dense.weight', 'cls.predictions.transform.dense.bias', 'cls.predictions.decoder.weight', 'cls.seq_relationship.weight', 'cls.seq_relationship.bias', 'cls.predictions.transform.LayerNorm.weight', 'cls.predictions.transform.LayerNorm.bias']\n",
      "- This IS expected if you are initializing BertForSequenceClassification from the checkpoint of a model trained on another task or with another architecture (e.g. initializing a BertForSequenceClassification model from a BertForPretraining model).\n",
      "- This IS NOT expected if you are initializing BertForSequenceClassification from the checkpoint of a model that you expect to be exactly identical (initializing a BertForSequenceClassification model from a BertForSequenceClassification model).\n",
      "Some weights of BertForSequenceClassification were not initialized from the model checkpoint at bert-base-uncased and are newly initialized: ['classifier.weight', 'classifier.bias']\n",
      "You should probably TRAIN this model on a down-stream task to be able to use it for predictions and inference.\n"
     ]
    },
    {
     "name": "stdout",
     "output_type": "stream",
     "text": [
      "2020-12-15 12:14:08,017 [INFO] Device cuda\n",
      "2020-12-15 12:14:08,017 [INFO] Num GPU 4\n",
      "2020-12-15 12:14:08,095 [INFO] Total batches per epoch : 354\n",
      "2020-12-15 12:14:08,095 [INFO] Validating every 1 epoch.\n"
     ]
    },
    {
     "name": "stderr",
     "output_type": "stream",
     "text": [
      "\r",
      "Epoch 0, steps:   0%|          | 0/354 [00:00<?, ?it/s]"
     ]
    },
    {
     "name": "stdout",
     "output_type": "stream",
     "text": [
      "2020-12-15 12:14:12,545 [ERROR] Failed to query for notebook name, you can set it manually with the WANDB_NOTEBOOK_NAME environment variable\n"
     ]
    },
    {
     "name": "stderr",
     "output_type": "stream",
     "text": [
      "/home/svakule/anaconda3/envs/ranking/lib/python3.7/site-packages/torch/nn/parallel/_functions.py:61: UserWarning: Was asked to gather along dimension 0, but all input tensors were scalars; will instead unsqueeze and return a vector.\n",
      "  warnings.warn('Was asked to gather along dimension 0, but all '\n",
      "\u001b[34m\u001b[1mwandb\u001b[0m: Wandb version 0.10.12 is available!  To upgrade, please run:\n",
      "\u001b[34m\u001b[1mwandb\u001b[0m:  $ pip install wandb --upgrade\n"
     ]
    },
    {
     "name": "stdout",
     "output_type": "stream",
     "text": [
      "2020-12-15 12:14:12,679 [INFO] system metrics and metadata threads started\n",
      "2020-12-15 12:14:12,680 [INFO] checking resume status, waiting at most 10 seconds\n",
      "2020-12-15 12:14:12,829 [INFO] resuming run from id: UnVuOnYxOjEweW9iMXN1OnRyYW5zZm9ybWVyX3JhbmtlcnMtbm90ZWJvb2tzOnZlbmRp\n",
      "2020-12-15 12:14:12,840 [INFO] upserting run before process can begin, waiting at most 10 seconds\n",
      "2020-12-15 12:14:13,012 [INFO] saving pip packages\n",
      "2020-12-15 12:14:13,017 [INFO] initializing streaming files api\n",
      "2020-12-15 12:14:13,019 [INFO] unblocking file change observer, beginning sync with W&B servers\n"
     ]
    },
    {
     "name": "stderr",
     "output_type": "stream",
     "text": [
      "Epoch 0, steps:   0%|          | 1/354 [00:05<30:32,  5.19s/it]/home/svakule/anaconda3/envs/ranking/lib/python3.7/site-packages/torch/nn/parallel/_functions.py:61: UserWarning: Was asked to gather along dimension 0, but all input tensors were scalars; will instead unsqueeze and return a vector.\n",
      "  warnings.warn('Was asked to gather along dimension 0, but all '\n"
     ]
    },
    {
     "name": "stdout",
     "output_type": "stream",
     "text": [
      "2020-12-15 12:14:13,546 [INFO] file/dir modified: /home/svakule/transformer_rankers/notebooks/wandb/run-20201215_121358-10yob1su/wandb-summary.json\n",
      "2020-12-15 12:14:13,550 [INFO] file/dir modified: /home/svakule/transformer_rankers/notebooks/wandb/run-20201215_121358-10yob1su/requirements.txt\n",
      "2020-12-15 12:14:13,552 [INFO] file/dir modified: /home/svakule/transformer_rankers/notebooks/wandb/run-20201215_121358-10yob1su/config.yaml\n",
      "2020-12-15 12:14:13,732 [INFO] file/dir modified: /home/svakule/transformer_rankers/notebooks/wandb/run-20201215_121358-10yob1su/wandb-events.jsonl\n",
      "2020-12-15 12:14:13,736 [INFO] file/dir modified: /home/svakule/transformer_rankers/notebooks/wandb/run-20201215_121358-10yob1su/wandb-metadata.json\n"
     ]
    },
    {
     "name": "stderr",
     "output_type": "stream",
     "text": [
      "Epoch 0, steps:  11%|█         | 39/354 [00:21<02:11,  2.40it/s]"
     ]
    },
    {
     "name": "stdout",
     "output_type": "stream",
     "text": [
      "2020-12-15 12:14:29,571 [INFO] file/dir modified: /home/svakule/transformer_rankers/notebooks/wandb/run-20201215_121358-10yob1su/wandb-metadata.json\n"
     ]
    },
    {
     "name": "stderr",
     "output_type": "stream",
     "text": [
      "Epoch 0, steps:  21%|██        | 73/354 [00:35<01:54,  2.45it/s]"
     ]
    },
    {
     "name": "stdout",
     "output_type": "stream",
     "text": [
      "2020-12-15 12:14:43,597 [INFO] file/dir modified: /home/svakule/transformer_rankers/notebooks/wandb/run-20201215_121358-10yob1su/wandb-events.jsonl\n"
     ]
    },
    {
     "name": "stderr",
     "output_type": "stream",
     "text": [
      "Epoch 0, steps:  22%|██▏       | 78/354 [00:37<01:54,  2.42it/s]"
     ]
    },
    {
     "name": "stdout",
     "output_type": "stream",
     "text": [
      "2020-12-15 12:14:45,600 [INFO] file/dir modified: /home/svakule/transformer_rankers/notebooks/wandb/run-20201215_121358-10yob1su/wandb-metadata.json\n"
     ]
    },
    {
     "name": "stderr",
     "output_type": "stream",
     "text": [
      "Epoch 0, steps:  33%|███▎      | 117/354 [00:53<01:37,  2.43it/s]"
     ]
    },
    {
     "name": "stdout",
     "output_type": "stream",
     "text": [
      "2020-12-15 12:15:01,639 [INFO] file/dir modified: /home/svakule/transformer_rankers/notebooks/wandb/run-20201215_121358-10yob1su/wandb-metadata.json\n"
     ]
    }
   ],
   "source": [
    "from transformer_rankers.trainers import transformer_trainer\n",
    "from transformer_rankers.datasets import dataset\n",
    "from transformer_rankers.negative_samplers import negative_sampling\n",
    "from transformer_rankers.eval import results_analyses_tools\n",
    "\n",
    "from transformers import BertTokenizer, BertForSequenceClassification\n",
    "\n",
    "import logging\n",
    "import os\n",
    "import sys\n",
    "import torch\n",
    "import random\n",
    "import numpy as np\n",
    "\n",
    "np.random.seed(42)\n",
    "random.seed(42)\n",
    "torch.manual_seed(42)\n",
    "torch.cuda.manual_seed(42)\n",
    "\n",
    "logging.basicConfig(\n",
    "  level=logging.INFO,\n",
    "  format=\"%(asctime)s [%(levelname)s] %(message)s\",\n",
    "  handlers=[\n",
    "      logging.StreamHandler(sys.stdout)\n",
    "  ]\n",
    ")\n",
    "\n",
    "#The combination of query and question are not that big.\n",
    "max_seq_len = 50\n",
    "\n",
    "#Lets use an almost balanced amount of positive and negative samples during training.\n",
    "average_relevant_per_query = train.groupby(\"query\").count().mean().values[0]\n",
    "\n",
    "#Instantiate BM25 negative sampler.\n",
    "ns_train = negative_sampling.BM25NegativeSamplerPyserini(list(question_bank[\"question\"].values[1:]), int(average_relevant_per_query) , \n",
    "                    \"./data/clariq/anserini_train/\", -1, \"./anserini/\")\n",
    "ns_val = negative_sampling.BM25NegativeSamplerPyserini(list(question_bank[\"question\"].values[1:]), int(average_relevant_per_query), \n",
    "                    \"./data/clariq/anserini_train/\", -1, \"./anserini/\")\n",
    "\n",
    "# We could also use random sampling which does not require Anserini.\n",
    "# ns_train = negative_sampling.RandomNegativeSampler(list(question_bank[\"question\"].values[1:]), int(average_relevant_per_query))\n",
    "# ns_val = negative_sampling.RandomNegativeSampler(list(question_bank[\"question\"].values[1:]), int(average_relevant_per_query))\n",
    "\n",
    "#Create the loaders for the dataset, with the respective negative samplers\n",
    "tokenizer = BertTokenizer.from_pretrained('bert-base-uncased')\n",
    "dataloader = dataset.QueryDocumentDataLoader(train_df=train,\n",
    "                    val_df=valid, test_df=valid,\n",
    "                    tokenizer=tokenizer, negative_sampler_train=ns_train,\n",
    "                    negative_sampler_val=ns_val, task_type='classification',\n",
    "                    train_batch_size=12, val_batch_size=12, max_seq_len=max_seq_len,\n",
    "                    sample_data=-1, cache_path=\"./data/clariq/\")\n",
    "\n",
    "train_loader, val_loader, test_loader = dataloader.\\\n",
    "  get_pytorch_dataloaders()\n",
    "\n",
    "#Use BERT (any model that has SequenceClassification class from HuggingFace would work here)\n",
    "model = BertForSequenceClassification.from_pretrained('bert-base-uncased')\n",
    "\n",
    "#Instantiate trainer that handles fitting.\n",
    "trainer = transformer_trainer.TransformerTrainer(model=model,\n",
    "  train_loader=train_loader,\n",
    "  val_loader=val_loader, test_loader=test_loader,\n",
    "  num_ns_eval=int(average_relevant_per_query), task_type=\"classification\", tokenizer=tokenizer,\n",
    "  validate_every_epochs=1, num_validation_batches=-1,\n",
    "  num_epochs=1, lr=5e-7, sacred_ex=None)\n",
    "\n",
    "#Train (our validation eval uses the NS sampling procedure)\n",
    "trainer.fit()"
   ]
  },
  {
   "cell_type": "code",
   "execution_count": null,
   "metadata": {},
   "outputs": [],
   "source": []
  }
 ],
 "metadata": {
  "kernelspec": {
   "display_name": "ranking",
   "language": "python",
   "name": "ranking"
  },
  "language_info": {
   "codemirror_mode": {
    "name": "ipython",
    "version": 3
   },
   "file_extension": ".py",
   "mimetype": "text/x-python",
   "name": "python",
   "nbconvert_exporter": "python",
   "pygments_lexer": "ipython3",
   "version": "3.7.9"
  }
 },
 "nbformat": 4,
 "nbformat_minor": 4
}
